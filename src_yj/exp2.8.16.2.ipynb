{
 "cells": [
  {
   "cell_type": "code",
   "execution_count": 1,
   "metadata": {},
   "outputs": [
    {
     "name": "stdout",
     "output_type": "stream",
     "text": [
      "No module named 'utils'\n"
     ]
    }
   ],
   "source": [
    "try:\n",
    "    import warnings\n",
    "    warnings.filterwarnings('ignore')\n",
    "    import utils\n",
    "except Exception as e:\n",
    "    print(e)\n",
    "    from tensorflow.keras.applications.vgg16 import preprocess_input\n",
    "    def preprocess_img(x):\n",
    "        return preprocess_input(x, mode='tf')\n",
    "    pass"
   ]
  },
  {
   "cell_type": "code",
   "execution_count": 2,
   "metadata": {},
   "outputs": [
    {
     "name": "stderr",
     "output_type": "stream",
     "text": [
      "Using TensorFlow backend.\n"
     ]
    }
   ],
   "source": [
    "from keras.preprocessing.image import ImageDataGenerator\n",
    "from glob import glob\n",
    "import tensorflow as tf\n",
    "import keras\n",
    "import numpy as np\n",
    "import pandas as pd\n",
    "import matplotlib.pyplot as plt\n",
    "from keras.applications.inception_v3 import InceptionV3\n",
    "from keras.applications.xception import Xception\n",
    "from keras.applications.resnet50 import ResNet50\n",
    "from keras.models import Model, Sequential, Input\n",
    "from keras.layers import *\n",
    "from keras.optimizers import Adam\n",
    "from keras.callbacks import ModelCheckpoint, EarlyStopping\n",
    "import os\n",
    "import PIL\n",
    "import time\n",
    "\n",
    "os.environ[\"CUDA_VISIBLE_DEVICES\"] = \"1\""
   ]
  },
  {
   "cell_type": "code",
   "execution_count": 3,
   "metadata": {},
   "outputs": [],
   "source": [
    "path_data = '../garbage_classify/train_data'\n",
    "batch_size = 32\n",
    "img_width = 224\n",
    "img_height = 224\n",
    "img_size = 224\n",
    "random_seed = 201908\n",
    "path_data_train = '../tmp/data_train/'\n",
    "path_data_valid = '../tmp/data_valid/'\n",
    "labels_file = '../tmp/labels_raw.csv'"
   ]
  },
  {
   "cell_type": "code",
   "execution_count": 4,
   "metadata": {},
   "outputs": [
    {
     "data": {
      "text/plain": [
       "<matplotlib.axes._subplots.AxesSubplot at 0x7f2b4c1a4908>"
      ]
     },
     "execution_count": 4,
     "metadata": {},
     "output_type": "execute_result"
    },
    {
     "data": {
      "image/png": "[encoded data removed]",
      "text/plain": [
       "<Figure size 432x288 with 1 Axes>"
      ]
     },
     "metadata": {
      "needs_background": "light"
     },
     "output_type": "display_data"
    }
   ],
   "source": [
    "labels_train = pd.read_csv('../tmp/labels_train.csv')\n",
    "labels_valid = pd.read_csv('../tmp/labels_valid.csv')\n",
    "n_classess = labels_train.label.unique().shape[0]\n",
    "n_classess\n",
    "labels_train.groupby(by='label').count().plot()"
   ]
  },
  {
   "cell_type": "code",
   "execution_count": 5,
   "metadata": {},
   "outputs": [],
   "source": [
    "labels_train.label = labels_train.label.apply(lambda x: f'{x:02d}')\n",
    "labels_valid.label = labels_valid.label.apply(lambda x: f'{x:02d}')\n",
    "# labels_train['label_bin'].values = keras.utils.np_utils.to_categorical(\n",
    "#     labels_train.label, n_classess)"
   ]
  },
  {
   "cell_type": "code",
   "execution_count": 6,
   "metadata": {},
   "outputs": [
    {
     "name": "stdout",
     "output_type": "stream",
     "text": [
      "Found 146815 validated image filenames belonging to 40 classes.\n",
      "Found 2978 validated image filenames belonging to 40 classes.\n"
     ]
    }
   ],
   "source": [
    "ig = ImageDataGenerator(preprocessing_function=preprocess_img)\n",
    "\n",
    "params_g = dict(\n",
    "    batch_size=batch_size,\n",
    "    # directory=path_data,\n",
    "    # class_mode='other',\n",
    "    x_col='fname',\n",
    "    y_col='label',\n",
    "    target_size=(img_width, img_height),\n",
    "    seed=random_seed)\n",
    "\n",
    "train_g = ig.flow_from_dataframe(\n",
    "    labels_train, path_data_train, **params_g)\n",
    "valid_g = ig.flow_from_dataframe(\n",
    "    labels_valid, path_data_valid, **params_g)"
   ]
  },
  {
   "cell_type": "code",
   "execution_count": 7,
   "metadata": {
    "scrolled": false
   },
   "outputs": [
    {
     "name": "stdout",
     "output_type": "stream",
     "text": [
      "WARNING:tensorflow:From /usr/local/lib/python3.6/dist-packages/tensorflow/python/framework/op_def_library.py:263: colocate_with (from tensorflow.python.framework.ops) is deprecated and will be removed in a future version.\n",
      "Instructions for updating:\n",
      "Colocations handled automatically by placer.\n"
     ]
    }
   ],
   "source": [
    "base_model = Xception(\n",
    "    weights='imagenet', include_top=False, input_shape=(img_width, img_height, 3))\n",
    "\n",
    "# 添加全局平均池化层\n",
    "x = base_model.output\n",
    "x = GlobalAveragePooling2D()(x)\n",
    "\n",
    "# 添加一个全连接层\n",
    "# x = Dense(512, activation='relu')(x)\n",
    "\n",
    "x = Dense(1024, activation='relu')(x)\n",
    "# x=Dropout(0.5)(x)\n",
    "\n",
    "# 添加一个分类器，假设我们有200个类\n",
    "predictions = Dense(n_classess, activation='softmax')(x)\n",
    "\n",
    "# 构建我们需要训练的完整模型\n",
    "model = Model(inputs=base_model.input, outputs=predictions)\n",
    "# model.summary()\n",
    "# 首先，我们只训练顶部的几层（随机初始化的层）\n",
    "# 锁住所有 InceptionV3 的卷积层\n",
    "for layer in base_model.layers:\n",
    "    layer.trainable = False"
   ]
  },
  {
   "cell_type": "code",
   "execution_count": null,
   "metadata": {},
   "outputs": [],
   "source": [
    "# %%\n",
    "ckpt = ModelCheckpoint(\n",
    "    '../tmp/ckpt-exp2-'+time.strftime('%Y-%m-%d_%H_%M')+'-Epoch_{epoch:03d}-acc_{acc:.5f}-val_acc_{val_acc:.5f}.h5', save_best_only=True, monitor='val_acc')\n",
    "estop = EarlyStopping(monitor='val_acc', min_delta=1e-7,\n",
    "                      verbose=1, patience=20)\n"
   ]
  },
  {
   "cell_type": "code",
   "execution_count": 9,
   "metadata": {},
   "outputs": [
    {
     "name": "stdout",
     "output_type": "stream",
     "text": [
      "WARNING:tensorflow:From /usr/local/lib/python3.6/dist-packages/tensorflow/python/ops/math_ops.py:3066: to_int32 (from tensorflow.python.ops.math_ops) is deprecated and will be removed in a future version.\n",
      "Instructions for updating:\n",
      "Use tf.cast instead.\n",
      "Epoch 1/8\n",
      "4587/4587 [==============================] - 369s 80ms/step - loss: 0.9742 - acc: 0.7479 - val_loss: 1.0876 - val_acc: 0.7376\n",
      "Epoch 2/8\n",
      "4587/4587 [==============================] - 367s 80ms/step - loss: 0.4847 - acc: 0.8645 - val_loss: 1.2699 - val_acc: 0.7278\n",
      "Epoch 3/8\n",
      "4587/4587 [==============================] - 369s 81ms/step - loss: 0.3603 - acc: 0.9000 - val_loss: 1.3658 - val_acc: 0.7244\n",
      "Epoch 4/8\n",
      "4587/4587 [==============================] - 371s 81ms/step - loss: 0.2878 - acc: 0.9210 - val_loss: 1.3209 - val_acc: 0.7369\n",
      "Epoch 5/8\n",
      "4587/4587 [==============================] - 370s 81ms/step - loss: 0.2427 - acc: 0.9328 - val_loss: 1.4603 - val_acc: 0.7257\n",
      "Epoch 6/8\n",
      "4587/4587 [==============================] - 370s 81ms/step - loss: 0.2096 - acc: 0.9428 - val_loss: 1.4318 - val_acc: 0.7288\n",
      "Epoch 7/8\n",
      "4587/4587 [==============================] - 365s 80ms/step - loss: 0.1814 - acc: 0.9505 - val_loss: 1.5249 - val_acc: 0.7189\n",
      "Epoch 8/8\n",
      "4587/4587 [==============================] - 369s 80ms/step - loss: 0.1600 - acc: 0.9561 - val_loss: 1.4999 - val_acc: 0.7237\n"
     ]
    },
    {
     "data": {
      "text/plain": [
       "<keras.callbacks.History at 0x7f2b4d766208>"
      ]
     },
     "execution_count": 9,
     "metadata": {},
     "output_type": "execute_result"
    }
   ],
   "source": [
    "model.compile(optimizer=Adam(lr=1e-4), loss='categorical_crossentropy',\n",
    "              metrics=['accuracy'])\n",
    "model.fit_generator(\n",
    "    train_g,\n",
    "    # steps_per_epoch=100,\n",
    "    steps_per_epoch=train_g.n // batch_size,\n",
    "    epochs=8,\n",
    "    callbacks=[ckpt],\n",
    "    validation_data=valid_g,\n",
    "    # validation_steps=1,\n",
    "    validation_steps=valid_g.n // batch_size\n",
    ")\n"
   ]
  },
  {
   "cell_type": "code",
   "execution_count": 10,
   "metadata": {},
   "outputs": [
    {
     "name": "stdout",
     "output_type": "stream",
     "text": [
      "0 input_1\n",
      "1 block1_conv1\n",
      "2 block1_conv1_bn\n",
      "3 block1_conv1_act\n",
      "4 block1_conv2\n",
      "5 block1_conv2_bn\n",
      "6 block1_conv2_act\n",
      "7 block2_sepconv1\n",
      "8 block2_sepconv1_bn\n",
      "9 block2_sepconv2_act\n",
      "10 block2_sepconv2\n",
      "11 block2_sepconv2_bn\n",
      "12 conv2d_1\n",
      "13 block2_pool\n",
      "14 batch_normalization_1\n",
      "15 add_1\n",
      "16 block3_sepconv1_act\n",
      "17 block3_sepconv1\n",
      "18 block3_sepconv1_bn\n",
      "19 block3_sepconv2_act\n",
      "20 block3_sepconv2\n",
      "21 block3_sepconv2_bn\n",
      "22 conv2d_2\n",
      "23 block3_pool\n",
      "24 batch_normalization_2\n",
      "25 add_2\n",
      "26 block4_sepconv1_act\n",
      "27 block4_sepconv1\n",
      "28 block4_sepconv1_bn\n",
      "29 block4_sepconv2_act\n",
      "30 block4_sepconv2\n",
      "31 block4_sepconv2_bn\n",
      "32 conv2d_3\n",
      "33 block4_pool\n",
      "34 batch_normalization_3\n",
      "35 add_3\n",
      "36 block5_sepconv1_act\n",
      "37 block5_sepconv1\n",
      "38 block5_sepconv1_bn\n",
      "39 block5_sepconv2_act\n",
      "40 block5_sepconv2\n",
      "41 block5_sepconv2_bn\n",
      "42 block5_sepconv3_act\n",
      "43 block5_sepconv3\n",
      "44 block5_sepconv3_bn\n",
      "45 add_4\n",
      "46 block6_sepconv1_act\n",
      "47 block6_sepconv1\n",
      "48 block6_sepconv1_bn\n",
      "49 block6_sepconv2_act\n",
      "50 block6_sepconv2\n",
      "51 block6_sepconv2_bn\n",
      "52 block6_sepconv3_act\n",
      "53 block6_sepconv3\n",
      "54 block6_sepconv3_bn\n",
      "55 add_5\n",
      "56 block7_sepconv1_act\n",
      "57 block7_sepconv1\n",
      "58 block7_sepconv1_bn\n",
      "59 block7_sepconv2_act\n",
      "60 block7_sepconv2\n",
      "61 block7_sepconv2_bn\n",
      "62 block7_sepconv3_act\n",
      "63 block7_sepconv3\n",
      "64 block7_sepconv3_bn\n",
      "65 add_6\n",
      "66 block8_sepconv1_act\n",
      "67 block8_sepconv1\n",
      "68 block8_sepconv1_bn\n",
      "69 block8_sepconv2_act\n",
      "70 block8_sepconv2\n",
      "71 block8_sepconv2_bn\n",
      "72 block8_sepconv3_act\n",
      "73 block8_sepconv3\n",
      "74 block8_sepconv3_bn\n",
      "75 add_7\n",
      "76 block9_sepconv1_act\n",
      "77 block9_sepconv1\n",
      "78 block9_sepconv1_bn\n",
      "79 block9_sepconv2_act\n",
      "80 block9_sepconv2\n",
      "81 block9_sepconv2_bn\n",
      "82 block9_sepconv3_act\n",
      "83 block9_sepconv3\n",
      "84 block9_sepconv3_bn\n",
      "85 add_8\n",
      "86 block10_sepconv1_act\n",
      "87 block10_sepconv1\n",
      "88 block10_sepconv1_bn\n",
      "89 block10_sepconv2_act\n",
      "90 block10_sepconv2\n",
      "91 block10_sepconv2_bn\n",
      "92 block10_sepconv3_act\n",
      "93 block10_sepconv3\n",
      "94 block10_sepconv3_bn\n",
      "95 add_9\n",
      "96 block11_sepconv1_act\n",
      "97 block11_sepconv1\n",
      "98 block11_sepconv1_bn\n",
      "99 block11_sepconv2_act\n",
      "100 block11_sepconv2\n",
      "101 block11_sepconv2_bn\n",
      "102 block11_sepconv3_act\n",
      "103 block11_sepconv3\n",
      "104 block11_sepconv3_bn\n",
      "105 add_10\n",
      "106 block12_sepconv1_act\n",
      "107 block12_sepconv1\n",
      "108 block12_sepconv1_bn\n",
      "109 block12_sepconv2_act\n",
      "110 block12_sepconv2\n",
      "111 block12_sepconv2_bn\n",
      "112 block12_sepconv3_act\n",
      "113 block12_sepconv3\n",
      "114 block12_sepconv3_bn\n",
      "115 add_11\n",
      "116 block13_sepconv1_act\n",
      "117 block13_sepconv1\n",
      "118 block13_sepconv1_bn\n",
      "119 block13_sepconv2_act\n",
      "120 block13_sepconv2\n",
      "121 block13_sepconv2_bn\n",
      "122 conv2d_4\n",
      "123 block13_pool\n",
      "124 batch_normalization_4\n",
      "125 add_12\n",
      "126 block14_sepconv1\n",
      "127 block14_sepconv1_bn\n",
      "128 block14_sepconv1_act\n",
      "129 block14_sepconv2\n",
      "130 block14_sepconv2_bn\n",
      "131 block14_sepconv2_act\n"
     ]
    }
   ],
   "source": [
    "# 现在顶层应该训练好了，让我们开始微调 Inception V3 的卷积层。\n",
    "# 我们会锁住底下的几层，然后训练其余的顶层。\n",
    "\n",
    "# 让我们看看每一层的名字和层号，看看我们应该锁多少层呢：\n",
    "for i, layer in enumerate(base_model.layers):\n",
    "   print(i, layer.name)"
   ]
  },
  {
   "cell_type": "code",
   "execution_count": 11,
   "metadata": {},
   "outputs": [],
   "source": [
    "# 训练block10~14\n",
    "for layer in model.layers[:85]:\n",
    "   layer.trainable = False\n",
    "for layer in model.layers[85:]:\n",
    "   layer.trainable = True"
   ]
  },
  {
   "cell_type": "code",
   "execution_count": 12,
   "metadata": {},
   "outputs": [],
   "source": [
    "# 我们需要重新编译模型，才能使上面的修改生效\n",
    "# 让我们设置一个很低的学习率，使用 SGD 来微调\n",
    "from keras.optimizers import SGD\n",
    "model.compile(optimizer=SGD(lr=0.0001, momentum=0.9), loss='categorical_crossentropy',metrics=['accuracy'])"
   ]
  },
  {
   "cell_type": "code",
   "execution_count": null,
   "metadata": {},
   "outputs": [
    {
     "name": "stdout",
     "output_type": "stream",
     "text": [
      "Epoch 1/100\n",
      "4587/4587 [==============================] - 564s 123ms/step - loss: 0.0940 - acc: 0.9753 - val_loss: 1.0205 - val_acc: 0.7580\n",
      "Epoch 2/100\n",
      "4587/4587 [==============================] - 558s 122ms/step - loss: 0.0670 - acc: 0.9821 - val_loss: 0.9884 - val_acc: 0.7678\n",
      "Epoch 3/100\n",
      "4587/4587 [==============================] - 560s 122ms/step - loss: 0.0542 - acc: 0.9858 - val_loss: 0.9748 - val_acc: 0.7705\n",
      "Epoch 4/100\n",
      "4587/4587 [==============================] - 557s 121ms/step - loss: 0.0451 - acc: 0.9884 - val_loss: 0.9604 - val_acc: 0.7722\n",
      "Epoch 5/100\n",
      "4587/4587 [==============================] - 558s 122ms/step - loss: 0.0393 - acc: 0.9898 - val_loss: 0.9557 - val_acc: 0.7753\n",
      "Epoch 6/100\n",
      "4587/4587 [==============================] - 560s 122ms/step - loss: 0.0344 - acc: 0.9911 - val_loss: 0.9347 - val_acc: 0.7794\n",
      "Epoch 7/100\n",
      "4587/4587 [==============================] - 558s 122ms/step - loss: 0.0295 - acc: 0.9925 - val_loss: 0.9172 - val_acc: 0.7828\n",
      "Epoch 8/100\n",
      "4587/4587 [==============================] - 559s 122ms/step - loss: 0.0268 - acc: 0.9931 - val_loss: 0.9560 - val_acc: 0.7749\n",
      "Epoch 9/100\n",
      "4587/4587 [==============================] - 556s 121ms/step - loss: 0.0240 - acc: 0.9940 - val_loss: 0.9271 - val_acc: 0.7855\n",
      "Epoch 10/100\n",
      "4587/4587 [==============================] - 559s 122ms/step - loss: 0.0220 - acc: 0.9946 - val_loss: 0.9118 - val_acc: 0.7848\n",
      "Epoch 11/100\n",
      "4587/4587 [==============================] - 558s 122ms/step - loss: 0.0205 - acc: 0.9949 - val_loss: 0.9525 - val_acc: 0.7783\n",
      "Epoch 12/100\n",
      "4587/4587 [==============================] - 558s 122ms/step - loss: 0.0190 - acc: 0.9953 - val_loss: 0.9045 - val_acc: 0.7895\n",
      "Epoch 13/100\n",
      "4587/4587 [==============================] - 562s 123ms/step - loss: 0.0171 - acc: 0.9961 - val_loss: 0.9168 - val_acc: 0.7834\n",
      "Epoch 14/100\n",
      "4587/4587 [==============================] - 562s 122ms/step - loss: 0.0152 - acc: 0.9965 - val_loss: 0.9070 - val_acc: 0.7878\n",
      "Epoch 15/100\n",
      "4587/4587 [==============================] - 560s 122ms/step - loss: 0.0148 - acc: 0.9966 - val_loss: 0.9324 - val_acc: 0.7834\n",
      "Epoch 16/100\n",
      "4587/4587 [==============================] - 560s 122ms/step - loss: 0.0136 - acc: 0.9971 - val_loss: 0.9052 - val_acc: 0.7936\n",
      "Epoch 17/100\n",
      "4587/4587 [==============================] - 561s 122ms/step - loss: 0.0127 - acc: 0.9973 - val_loss: 0.9292 - val_acc: 0.7821\n",
      "Epoch 18/100\n",
      "4587/4587 [==============================] - 561s 122ms/step - loss: 0.0122 - acc: 0.9973 - val_loss: 0.8981 - val_acc: 0.7919\n",
      "Epoch 19/100\n",
      "4587/4587 [==============================] - 560s 122ms/step - loss: 0.0116 - acc: 0.9974 - val_loss: 0.9186 - val_acc: 0.7923\n",
      "Epoch 20/100\n",
      "4587/4587 [==============================] - 562s 123ms/step - loss: 0.0112 - acc: 0.9977 - val_loss: 0.8650 - val_acc: 0.7994\n",
      "Epoch 21/100\n",
      "4587/4587 [==============================] - 560s 122ms/step - loss: 0.0103 - acc: 0.9980 - val_loss: 0.9198 - val_acc: 0.7950\n",
      "Epoch 22/100\n",
      "4587/4587 [==============================] - 559s 122ms/step - loss: 0.0099 - acc: 0.9980 - val_loss: 0.9611 - val_acc: 0.7865\n",
      "Epoch 23/100\n",
      "4587/4587 [==============================] - 558s 122ms/step - loss: 0.0092 - acc: 0.9982 - val_loss: 0.8856 - val_acc: 0.7909\n",
      "Epoch 24/100\n",
      "4587/4587 [==============================] - 559s 122ms/step - loss: 0.0090 - acc: 0.9983 - val_loss: 0.8912 - val_acc: 0.8001\n",
      "Epoch 25/100\n",
      "4587/4587 [==============================] - 558s 122ms/step - loss: 0.0083 - acc: 0.9985 - val_loss: 0.8865 - val_acc: 0.7987\n",
      "Epoch 26/100\n",
      "4587/4587 [==============================] - 559s 122ms/step - loss: 0.0084 - acc: 0.9984 - val_loss: 0.9227 - val_acc: 0.7936\n",
      "Epoch 27/100\n",
      "4587/4587 [==============================] - 558s 122ms/step - loss: 0.0077 - acc: 0.9984 - val_loss: 0.8607 - val_acc: 0.8072\n",
      "Epoch 28/100\n",
      "4587/4587 [==============================] - 561s 122ms/step - loss: 0.0076 - acc: 0.9986 - val_loss: 0.9700 - val_acc: 0.7882\n",
      "Epoch 29/100\n",
      "4587/4587 [==============================] - 560s 122ms/step - loss: 0.0074 - acc: 0.9987 - val_loss: 0.9172 - val_acc: 0.7946\n",
      "Epoch 30/100\n",
      "4587/4587 [==============================] - 561s 122ms/step - loss: 0.0071 - acc: 0.9987 - val_loss: 0.8925 - val_acc: 0.8028\n",
      "Epoch 31/100\n",
      "4587/4587 [==============================] - 560s 122ms/step - loss: 0.0066 - acc: 0.9988 - val_loss: 0.9001 - val_acc: 0.8024\n",
      "Epoch 32/100\n",
      "4587/4587 [==============================] - 560s 122ms/step - loss: 0.0062 - acc: 0.9989 - val_loss: 0.9099 - val_acc: 0.7977\n",
      "Epoch 33/100\n",
      "4587/4587 [==============================] - 561s 122ms/step - loss: 0.0063 - acc: 0.9989 - val_loss: 0.9187 - val_acc: 0.8038\n",
      "Epoch 34/100\n",
      "4587/4587 [==============================] - 561s 122ms/step - loss: 0.0060 - acc: 0.9990 - val_loss: 0.8800 - val_acc: 0.8092\n",
      "Epoch 35/100\n",
      "4587/4587 [==============================] - 559s 122ms/step - loss: 0.0060 - acc: 0.9990 - val_loss: 0.8870 - val_acc: 0.8021\n",
      "Epoch 36/100\n",
      "4587/4587 [==============================] - 559s 122ms/step - loss: 0.0058 - acc: 0.9991 - val_loss: 0.9553 - val_acc: 0.7929\n",
      "Epoch 37/100\n",
      "4587/4587 [==============================] - 561s 122ms/step - loss: 0.0059 - acc: 0.9989 - val_loss: 0.8798 - val_acc: 0.8069\n",
      "Epoch 38/100\n",
      "4587/4587 [==============================] - 560s 122ms/step - loss: 0.0055 - acc: 0.9990 - val_loss: 0.8903 - val_acc: 0.8069\n",
      "Epoch 39/100\n",
      "4587/4587 [==============================] - 558s 122ms/step - loss: 0.0055 - acc: 0.9990 - val_loss: 0.8784 - val_acc: 0.8028\n",
      "Epoch 40/100\n",
      "4587/4587 [==============================] - 561s 122ms/step - loss: 0.0052 - acc: 0.9990 - val_loss: 0.9463 - val_acc: 0.7994\n",
      "Epoch 41/100\n",
      "4587/4587 [==============================] - 559s 122ms/step - loss: 0.0051 - acc: 0.9991 - val_loss: 0.8670 - val_acc: 0.8079\n",
      "Epoch 42/100\n",
      "4587/4587 [==============================] - 557s 121ms/step - loss: 0.0049 - acc: 0.9992 - val_loss: 0.9354 - val_acc: 0.8014\n",
      "Epoch 43/100\n",
      "4587/4587 [==============================] - 559s 122ms/step - loss: 0.0047 - acc: 0.9993 - val_loss: 0.8829 - val_acc: 0.8065\n",
      "Epoch 44/100\n",
      "4587/4587 [==============================] - 558s 122ms/step - loss: 0.0047 - acc: 0.9992 - val_loss: 0.9542 - val_acc: 0.7994\n",
      "Epoch 45/100\n",
      "4587/4587 [==============================] - 559s 122ms/step - loss: 0.0044 - acc: 0.9992 - val_loss: 0.8777 - val_acc: 0.8109\n",
      "Epoch 46/100\n",
      "4587/4587 [==============================] - 561s 122ms/step - loss: 0.0042 - acc: 0.9994 - val_loss: 0.9251 - val_acc: 0.8028\n",
      "Epoch 47/100\n",
      "4587/4587 [==============================] - 557s 121ms/step - loss: 0.0044 - acc: 0.9992 - val_loss: 0.8995 - val_acc: 0.8052\n",
      "Epoch 48/100\n",
      "4587/4587 [==============================] - 558s 122ms/step - loss: 0.0043 - acc: 0.9993 - val_loss: 0.8895 - val_acc: 0.8103\n",
      "Epoch 49/100\n",
      "4587/4587 [==============================] - 558s 122ms/step - loss: 0.0040 - acc: 0.9994 - val_loss: 0.9541 - val_acc: 0.8004\n",
      "Epoch 50/100\n",
      "4587/4587 [==============================] - 559s 122ms/step - loss: 0.0040 - acc: 0.9994 - val_loss: 0.9062 - val_acc: 0.8126\n",
      "Epoch 51/100\n",
      "4587/4587 [==============================] - 560s 122ms/step - loss: 0.0039 - acc: 0.9994 - val_loss: 0.8699 - val_acc: 0.8116\n",
      "Epoch 52/100\n",
      "4587/4587 [==============================] - 562s 122ms/step - loss: 0.0038 - acc: 0.9994 - val_loss: 0.9484 - val_acc: 0.7990\n",
      "Epoch 53/100\n",
      "4587/4587 [==============================] - 559s 122ms/step - loss: 0.0037 - acc: 0.9994 - val_loss: 0.8753 - val_acc: 0.8123\n",
      "Epoch 54/100\n",
      "4587/4587 [==============================] - 560s 122ms/step - loss: 0.0038 - acc: 0.9994 - val_loss: 0.9385 - val_acc: 0.8045\n",
      "Epoch 55/100\n",
      "4587/4587 [==============================] - 560s 122ms/step - loss: 0.0035 - acc: 0.9994 - val_loss: 0.9199 - val_acc: 0.8103\n",
      "Epoch 56/100\n",
      "4587/4587 [==============================] - 559s 122ms/step - loss: 0.0035 - acc: 0.9995 - val_loss: 0.8717 - val_acc: 0.8157\n",
      "Epoch 57/100\n",
      "4587/4587 [==============================] - 563s 123ms/step - loss: 0.0036 - acc: 0.9994 - val_loss: 0.9429 - val_acc: 0.7960\n",
      "Epoch 58/100\n",
      "4587/4587 [==============================] - 561s 122ms/step - loss: 0.0036 - acc: 0.9994 - val_loss: 0.8944 - val_acc: 0.8150\n",
      "Epoch 59/100\n"
     ]
    },
    {
     "name": "stdout",
     "output_type": "stream",
     "text": [
      "4587/4587 [==============================] - 560s 122ms/step - loss: 0.0035 - acc: 0.9995 - val_loss: 0.9200 - val_acc: 0.8062\n",
      "Epoch 60/100\n",
      "4587/4587 [==============================] - 560s 122ms/step - loss: 0.0035 - acc: 0.9994 - val_loss: 0.8642 - val_acc: 0.8086\n",
      "Epoch 61/100\n",
      "4587/4587 [==============================] - 559s 122ms/step - loss: 0.0033 - acc: 0.9995 - val_loss: 0.9622 - val_acc: 0.8069\n",
      "Epoch 62/100\n",
      "4587/4587 [==============================] - 557s 121ms/step - loss: 0.0029 - acc: 0.9996 - val_loss: 0.9081 - val_acc: 0.8072\n",
      "Epoch 63/100\n",
      "4587/4587 [==============================] - 557s 122ms/step - loss: 0.0031 - acc: 0.9995 - val_loss: 0.8676 - val_acc: 0.8150\n",
      "Epoch 64/100\n",
      "4587/4587 [==============================] - 560s 122ms/step - loss: 0.0033 - acc: 0.9995 - val_loss: 0.9308 - val_acc: 0.8052\n",
      "Epoch 65/100\n",
      "4587/4587 [==============================] - 558s 122ms/step - loss: 0.0031 - acc: 0.9995 - val_loss: 0.9054 - val_acc: 0.8058\n",
      "Epoch 66/100\n",
      "4587/4587 [==============================] - 559s 122ms/step - loss: 0.0030 - acc: 0.9996 - val_loss: 0.9303 - val_acc: 0.8079\n",
      "Epoch 67/100\n",
      "4587/4587 [==============================] - 560s 122ms/step - loss: 0.0030 - acc: 0.9995 - val_loss: 0.8443 - val_acc: 0.8201\n",
      "Epoch 68/100\n",
      "4587/4587 [==============================] - 560s 122ms/step - loss: 0.0028 - acc: 0.9996 - val_loss: 0.9703 - val_acc: 0.8011\n",
      "Epoch 69/100\n",
      "4587/4587 [==============================] - 554s 121ms/step - loss: 0.0029 - acc: 0.9996 - val_loss: 0.8616 - val_acc: 0.8119\n",
      "Epoch 70/100\n",
      "4587/4587 [==============================] - 556s 121ms/step - loss: 0.0027 - acc: 0.9997 - val_loss: 0.9598 - val_acc: 0.8045\n",
      "Epoch 71/100\n",
      "4587/4587 [==============================] - 556s 121ms/step - loss: 0.0027 - acc: 0.9996 - val_loss: 0.9015 - val_acc: 0.8147\n",
      "Epoch 72/100\n",
      "4587/4587 [==============================] - 555s 121ms/step - loss: 0.0027 - acc: 0.9996 - val_loss: 0.8532 - val_acc: 0.8181\n",
      "Epoch 73/100\n",
      "4587/4587 [==============================] - 557s 121ms/step - loss: 0.0026 - acc: 0.9997 - val_loss: 0.9289 - val_acc: 0.8069\n",
      "Epoch 74/100\n",
      "4587/4587 [==============================] - 556s 121ms/step - loss: 0.0025 - acc: 0.9997 - val_loss: 0.9343 - val_acc: 0.8038\n",
      "Epoch 75/100\n",
      "4587/4587 [==============================] - 556s 121ms/step - loss: 0.0025 - acc: 0.9997 - val_loss: 0.8886 - val_acc: 0.8194\n",
      "Epoch 76/100\n",
      "4587/4587 [==============================] - 556s 121ms/step - loss: 0.0025 - acc: 0.9996 - val_loss: 0.9209 - val_acc: 0.8035\n",
      "Epoch 77/100\n",
      "4587/4587 [==============================] - 556s 121ms/step - loss: 0.0024 - acc: 0.9997 - val_loss: 0.8938 - val_acc: 0.8130\n",
      "Epoch 78/100\n",
      "4587/4587 [==============================] - 556s 121ms/step - loss: 0.0025 - acc: 0.9996 - val_loss: 0.9129 - val_acc: 0.8109\n",
      "Epoch 79/100\n",
      "4587/4587 [==============================] - 556s 121ms/step - loss: 0.0024 - acc: 0.9997 - val_loss: 0.8944 - val_acc: 0.8164\n",
      "Epoch 80/100\n",
      "2947/4587 [==================>...........] - ETA: 3:16 - loss: 0.0024 - acc: 0.9996"
     ]
    }
   ],
   "source": [
    "model.fit_generator(\n",
    "    train_g,\n",
    "    # steps_per_epoch=100,\n",
    "    steps_per_epoch=train_g.n // batch_size,\n",
    "    epochs=100,\n",
    "    callbacks=[ckpt,estop],\n",
    "    validation_data=valid_g,\n",
    "    # validation_steps=1,\n",
    "    validation_steps=valid_g.n // batch_size\n",
    ")"
   ]
  }
 ],
 "metadata": {
  "kernelspec": {
   "display_name": "Python 3",
   "language": "python",
   "name": "python3"
  },
  "language_info": {
   "codemirror_mode": {
    "name": "ipython",
    "version": 3
   },
   "file_extension": ".py",
   "mimetype": "text/x-python",
   "name": "python",
   "nbconvert_exporter": "python",
   "pygments_lexer": "ipython3",
   "version": "3.6.8"
  }
 },
 "nbformat": 4,
 "nbformat_minor": 2
}
